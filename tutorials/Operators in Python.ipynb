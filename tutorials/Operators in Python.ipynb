{
 "cells": [
  {
   "cell_type": "code",
   "execution_count": 1,
   "id": "smaller-facial",
   "metadata": {},
   "outputs": [
    {
     "name": "stdout",
     "output_type": "stream",
     "text": [
      "False\n",
      "True\n",
      "True\n"
     ]
    }
   ],
   "source": [
    "# Operators are - logical, arithmatic, comparision, bitwise, identity... etc.\n",
    "\n",
    "\n",
    "# Identity operators - [ is, is not ]\n",
    "a = 10\n",
    "b = 20\n",
    "c = a\n",
    "\n",
    "d = \"silicon\"\n",
    "e = \"silicon\"\n",
    "\n",
    "print(a is b)\n",
    "print(a is c)\n",
    "\n",
    "print(d is e)  # in case of strings if value is same then the id is also same"
   ]
  },
  {
   "cell_type": "code",
   "execution_count": 2,
   "id": "agreed-hebrew",
   "metadata": {},
   "outputs": [
    {
     "name": "stdout",
     "output_type": "stream",
     "text": [
      "True\n"
     ]
    }
   ],
   "source": [
    "print(a is not b)"
   ]
  },
  {
   "cell_type": "code",
   "execution_count": 3,
   "id": "large-powder",
   "metadata": {},
   "outputs": [
    {
     "name": "stdout",
     "output_type": "stream",
     "text": [
      "True\n"
     ]
    }
   ],
   "source": [
    "# Membership operator - [ in, not in ]\n",
    "a = [1, 2, 3]\n",
    "print(3 in a)"
   ]
  },
  {
   "cell_type": "code",
   "execution_count": 4,
   "id": "civic-japan",
   "metadata": {},
   "outputs": [
    {
     "name": "stdout",
     "output_type": "stream",
     "text": [
      "True\n"
     ]
    }
   ],
   "source": [
    "print(4 not in a)"
   ]
  },
  {
   "cell_type": "code",
   "execution_count": 5,
   "id": "decreased-hungarian",
   "metadata": {},
   "outputs": [
    {
     "name": "stdout",
     "output_type": "stream",
     "text": [
      "False\n"
     ]
    }
   ],
   "source": [
    "dict = {\n",
    "    6:'june',\n",
    "    12: 'dec',\n",
    "}\n",
    "\n",
    "print('dec' in dict)"
   ]
  },
  {
   "cell_type": "code",
   "execution_count": 6,
   "id": "nuclear-chuck",
   "metadata": {},
   "outputs": [
    {
     "name": "stdout",
     "output_type": "stream",
     "text": [
      "june\n"
     ]
    }
   ],
   "source": [
    "print(dict[6])"
   ]
  },
  {
   "cell_type": "code",
   "execution_count": 7,
   "id": "superb-synthesis",
   "metadata": {},
   "outputs": [
    {
     "name": "stdout",
     "output_type": "stream",
     "text": [
      "dec\n"
     ]
    }
   ],
   "source": [
    "print(dict[12])"
   ]
  },
  {
   "cell_type": "code",
   "execution_count": 8,
   "id": "handled-thesis",
   "metadata": {},
   "outputs": [
    {
     "name": "stdout",
     "output_type": "stream",
     "text": [
      "124.23\n"
     ]
    }
   ],
   "source": [
    "# Typecasting - [ Implicit, Explicit ]\n",
    "num_int = 123\n",
    "num_float = 1.23\n",
    "\n",
    "print(num_int + num_float)"
   ]
  },
  {
   "cell_type": "code",
   "execution_count": 10,
   "id": "specified-british",
   "metadata": {},
   "outputs": [
    {
     "name": "stdout",
     "output_type": "stream",
     "text": [
      "added string = 123456\n",
      "added number = 579\n"
     ]
    }
   ],
   "source": [
    "num_str = \"456\"\n",
    "print(\"added string = \" + str(num_int) + num_str)\n",
    "print(\"added number = \" + str(num_int + int(num_str)))"
   ]
  },
  {
   "cell_type": "code",
   "execution_count": 11,
   "id": "sitting-placement",
   "metadata": {},
   "outputs": [
    {
     "name": "stdout",
     "output_type": "stream",
     "text": [
      "1 2 3 4\n",
      "1%2%3%4\n",
      "1%2%3%4#"
     ]
    }
   ],
   "source": [
    "# Print function\n",
    "\n",
    "print(1,2,3,4)\n",
    "print(1,2,3,4, sep='%')\n",
    "print(1,2,3,4, sep='%', end='#')"
   ]
  },
  {
   "cell_type": "code",
   "execution_count": 16,
   "id": "entertaining-logan",
   "metadata": {},
   "outputs": [
    {
     "name": "stdout",
     "output_type": "stream",
     "text": [
      "this is x 9, this is y 10\n"
     ]
    }
   ],
   "source": [
    "x = '9'\n",
    "y = '10'\n",
    "print(f'this is x {x}, this is y {y}')"
   ]
  },
  {
   "cell_type": "code",
   "execution_count": 17,
   "id": "adverse-nation",
   "metadata": {},
   "outputs": [
    {
     "name": "stdout",
     "output_type": "stream",
     "text": [
      "Enter the number you want45\n"
     ]
    }
   ],
   "source": [
    "# Taking input\n",
    "n = int(input(\"Enter the number you want\"))"
   ]
  },
  {
   "cell_type": "code",
   "execution_count": 18,
   "id": "round-louisville",
   "metadata": {},
   "outputs": [
    {
     "name": "stdout",
     "output_type": "stream",
     "text": [
      "45\n"
     ]
    }
   ],
   "source": [
    "print(n)"
   ]
  },
  {
   "cell_type": "code",
   "execution_count": 19,
   "id": "sweet-traffic",
   "metadata": {},
   "outputs": [],
   "source": [
    "# Evaluation of a statment\n",
    "sum = eval('2+3')"
   ]
  },
  {
   "cell_type": "code",
   "execution_count": 20,
   "id": "rural-shepherd",
   "metadata": {},
   "outputs": [
    {
     "name": "stdout",
     "output_type": "stream",
     "text": [
      "5\n"
     ]
    }
   ],
   "source": [
    "print(sum)"
   ]
  },
  {
   "cell_type": "code",
   "execution_count": 21,
   "id": "coated-factor",
   "metadata": {},
   "outputs": [
    {
     "name": "stdout",
     "output_type": "stream",
     "text": [
      "3.141592653589793\n"
     ]
    }
   ],
   "source": [
    "# imports\n",
    "import math\n",
    "print(math.pi)"
   ]
  },
  {
   "cell_type": "code",
   "execution_count": null,
   "id": "technical-amount",
   "metadata": {},
   "outputs": [],
   "source": []
  }
 ],
 "metadata": {
  "kernelspec": {
   "display_name": "Python 3",
   "language": "python",
   "name": "python3"
  },
  "language_info": {
   "codemirror_mode": {
    "name": "ipython",
    "version": 3
   },
   "file_extension": ".py",
   "mimetype": "text/x-python",
   "name": "python",
   "nbconvert_exporter": "python",
   "pygments_lexer": "ipython3",
   "version": "3.6.9"
  }
 },
 "nbformat": 4,
 "nbformat_minor": 5
}

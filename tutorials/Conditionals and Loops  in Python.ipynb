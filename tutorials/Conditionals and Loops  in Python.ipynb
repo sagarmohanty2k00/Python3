{
 "cells": [
  {
   "cell_type": "code",
   "execution_count": 1,
   "id": "assigned-statistics",
   "metadata": {},
   "outputs": [
    {
     "name": "stdout",
     "output_type": "stream",
     "text": [
      "10is less than of equals 10\n"
     ]
    }
   ],
   "source": [
    "# if statement\n",
    "a = 10\n",
    "if a <= 10:\n",
    "    print(str(a) + \"is less than of equals 10\")"
   ]
  },
  {
   "cell_type": "code",
   "execution_count": 2,
   "id": "urban-friendly",
   "metadata": {},
   "outputs": [
    {
     "name": "stdout",
     "output_type": "stream",
     "text": [
      "11\n"
     ]
    }
   ],
   "source": [
    "# if else statement\n",
    "a = 10\n",
    "if a < 10:\n",
    "    print(a)\n",
    "else:\n",
    "    print(a+1)"
   ]
  },
  {
   "cell_type": "code",
   "execution_count": 3,
   "id": "french-mexican",
   "metadata": {},
   "outputs": [
    {
     "name": "stdout",
     "output_type": "stream",
     "text": [
      "enter the number1 : 12\n",
      "enter the number2 : 13\n",
      "13 is greater.\n"
     ]
    }
   ],
   "source": [
    "a = int(input(\"enter the number1 : \"))\n",
    "b = int(input(\"enter the number2 : \"))\n",
    "\n",
    "if a > b:\n",
    "    print(str(a) + \" is greater.\")\n",
    "else:\n",
    "    print(str(b) + \" is greater.\")"
   ]
  },
  {
   "cell_type": "code",
   "execution_count": 4,
   "id": "superb-inspector",
   "metadata": {},
   "outputs": [
    {
     "name": "stdout",
     "output_type": "stream",
     "text": [
      "enter the number1 : 12\n",
      "enter the number2 : 13\n",
      "enter the number3 : 15\n",
      "15 is greater.\n"
     ]
    }
   ],
   "source": [
    "# elif statement and nasted if else statements\n",
    "# Program to find max of 3 numbers\n",
    "a = int(input(\"enter the number1 : \"))\n",
    "b = int(input(\"enter the number2 : \"))\n",
    "c = int(input(\"enter the number3 : \"))\n",
    "\n",
    "\n",
    "if a > b:\n",
    "    if a > c:\n",
    "        print(str(a) + \" is greater.\")\n",
    "    else:\n",
    "        print(str(c) + \" is greater.\")\n",
    "elif b > a:\n",
    "    if b > c:\n",
    "        print(str(b) + \" is greater.\")\n",
    "    else:\n",
    "        print(str(c) + \" is greater.\")\n",
    "else:\n",
    "    if a > c:\n",
    "        print(str(a) + \" is greater.\")\n",
    "    else:\n",
    "        print(str(c) + \" is greater.\")"
   ]
  },
  {
   "cell_type": "code",
   "execution_count": 5,
   "id": "welsh-recall",
   "metadata": {},
   "outputs": [
    {
     "name": "stdout",
     "output_type": "stream",
     "text": [
      "[1, 2, 3, 4, 5, 6, 7, 8, 9, 10]\n",
      "[1, 2, 3, 4, 5, 6, 7, 8, 9, 10]\n",
      "[1, 2, 3, 4, 5, 6, 7, 8, 9, 10]\n",
      "[1, 2, 3, 4, 5, 6, 7, 8, 9, 10]\n",
      "[1, 2, 3, 4, 5, 6, 7, 8, 9, 10]\n",
      "[1, 2, 3, 4, 5, 6, 7, 8, 9, 10]\n",
      "[1, 2, 3, 4, 5, 6, 7, 8, 9, 10]\n",
      "[1, 2, 3, 4, 5, 6, 7, 8, 9, 10]\n",
      "[1, 2, 3, 4, 5, 6, 7, 8, 9, 10]\n",
      "[1, 2, 3, 4, 5, 6, 7, 8, 9, 10]\n"
     ]
    }
   ],
   "source": [
    "# for loop\n",
    "a = [1,2,3,4,5,6,7,8,9,10]\n",
    "for item in a:\n",
    "    print(item)"
   ]
  },
  {
   "cell_type": "code",
   "execution_count": 6,
   "id": "mechanical-compiler",
   "metadata": {},
   "outputs": [
    {
     "name": "stdout",
     "output_type": "stream",
     "text": [
      "1\n",
      "2\n",
      "3\n",
      "4\n",
      "5\n",
      "6\n",
      "7\n",
      "8\n",
      "9\n",
      "10\n",
      "No items left\n"
     ]
    }
   ],
   "source": [
    "# for loop with else\n",
    "a = [1,2,3,4,5,6,7,8,9,10]\n",
    "for item in a:\n",
    "    print(item)\n",
    "else:\n",
    "    print(\"No items left.\")"
   ]
  },
  {
   "cell_type": "code",
   "execution_count": 7,
   "id": "native-polish",
   "metadata": {},
   "outputs": [
    {
     "name": "stdout",
     "output_type": "stream",
     "text": [
      "No student with the name Soyuj\n"
     ]
    }
   ],
   "source": [
    "name = 'Soyuj'\n",
    "marks = {\n",
    "    'James' : 90,\n",
    "    'Jule' : 55,\n",
    "    'Arther' : 77\n",
    "}\n",
    "\n",
    "for student in marks:\n",
    "    if student == name:\n",
    "        print(marks[student])\n",
    "        break\n",
    "else:\n",
    "    print('No student with the name ' + name)"
   ]
  },
  {
   "cell_type": "code",
   "execution_count": 8,
   "id": "nearby-office",
   "metadata": {},
   "outputs": [
    {
     "name": "stdout",
     "output_type": "stream",
     "text": [
      "90\n"
     ]
    }
   ],
   "source": [
    "name = 'James'\n",
    "marks = {\n",
    "    'James' : 90,\n",
    "    'Jule' : 55,\n",
    "    'Arther' : 77\n",
    "}\n",
    "\n",
    "for student in marks:\n",
    "    if student == name:\n",
    "        print(marks[student])\n",
    "        break\n",
    "else:\n",
    "    print('No student with the name ' + name)"
   ]
  },
  {
   "cell_type": "code",
   "execution_count": 9,
   "id": "affiliated-front",
   "metadata": {},
   "outputs": [
    {
     "name": "stdout",
     "output_type": "stream",
     "text": [
      "1\n",
      "2\n",
      "3\n",
      "4\n",
      "5\n",
      "6\n",
      "7\n",
      "8\n",
      "9\n",
      "10\n"
     ]
    }
   ],
   "source": [
    "# while loop\n",
    "i = 1\n",
    "while i<= 10:\n",
    "    print(i)\n",
    "    i += 1"
   ]
  },
  {
   "cell_type": "code",
   "execution_count": 10,
   "id": "pursuant-adapter",
   "metadata": {},
   "outputs": [
    {
     "name": "stdout",
     "output_type": "stream",
     "text": [
      "1\n",
      "2\n",
      "3\n",
      "4\n",
      "5\n",
      "6\n",
      "7\n",
      "8\n",
      "9\n",
      "10\n",
      "Printed the numbers from 1 to 10\n"
     ]
    }
   ],
   "source": [
    "# while else loop\n",
    "i = 0\n",
    "while i < 10:\n",
    "    i += 1\n",
    "    print(i)\n",
    "else :\n",
    "    print('Printed the numbers from 1 to 10')"
   ]
  },
  {
   "cell_type": "code",
   "execution_count": null,
   "id": "departmental-administration",
   "metadata": {},
   "outputs": [],
   "source": [
    "# pass in python\n",
    "# placeholder for future implimentation of functions or loops\n",
    "\n",
    "def function():\n",
    "    pass\n",
    "\n",
    "function()\n",
    "# Nothing will be printed as the function is under construction\n",
    "\n",
    "# pass vs continue\n",
    "# pass is a null operation but continue is not"
   ]
  }
 ],
 "metadata": {
  "kernelspec": {
   "display_name": "Python 3",
   "language": "python",
   "name": "python3"
  },
  "language_info": {
   "codemirror_mode": {
    "name": "ipython",
    "version": 3
   },
   "file_extension": ".py",
   "mimetype": "text/x-python",
   "name": "python",
   "nbconvert_exporter": "python",
   "pygments_lexer": "ipython3",
   "version": "3.6.9"
  }
 },
 "nbformat": 4,
 "nbformat_minor": 5
}

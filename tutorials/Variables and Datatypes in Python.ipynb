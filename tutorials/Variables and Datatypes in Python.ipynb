{
 "cells": [
  {
   "cell_type": "code",
   "execution_count": 1,
   "id": "adjacent-detector",
   "metadata": {},
   "outputs": [
    {
     "name": "stdout",
     "output_type": "stream",
     "text": [
      "Hello World\n"
     ]
    }
   ],
   "source": [
    "print(\"Hello World\")"
   ]
  },
  {
   "cell_type": "code",
   "execution_count": 3,
   "id": "desirable-special",
   "metadata": {},
   "outputs": [],
   "source": [
    "a = 1"
   ]
  },
  {
   "cell_type": "code",
   "execution_count": 4,
   "id": "olive-killing",
   "metadata": {},
   "outputs": [
    {
     "data": {
      "text/plain": [
       "1"
      ]
     },
     "execution_count": 4,
     "metadata": {},
     "output_type": "execute_result"
    }
   ],
   "source": [
    "a"
   ]
  },
  {
   "cell_type": "code",
   "execution_count": 5,
   "id": "widespread-midwest",
   "metadata": {},
   "outputs": [
    {
     "data": {
      "text/plain": [
       "'\\n    This is a docstring\\n'"
      ]
     },
     "execution_count": 5,
     "metadata": {},
     "output_type": "execute_result"
    }
   ],
   "source": [
    "'''\n",
    "    This is a docstring\n",
    "'''"
   ]
  },
  {
   "cell_type": "code",
   "execution_count": 6,
   "id": "mental-rental",
   "metadata": {},
   "outputs": [
    {
     "name": "stdout",
     "output_type": "stream",
     "text": [
      "This function demonstarte use of doc string\n"
     ]
    }
   ],
   "source": [
    "def fun(a, b):\n",
    "    '''This function demonstarte use of doc string'''\n",
    "    return a + b\n",
    "    pass\n",
    "\n",
    "print(fun.__doc__)"
   ]
  },
  {
   "cell_type": "code",
   "execution_count": 8,
   "id": "bottom-round",
   "metadata": {},
   "outputs": [
    {
     "data": {
      "text/plain": [
       "9"
      ]
     },
     "execution_count": 8,
     "metadata": {},
     "output_type": "execute_result"
    }
   ],
   "source": [
    "# redeclaring of variables ae also available\n",
    "a = 'guru'\n",
    "a\n",
    "a = 5\n",
    "a\n",
    "a = a + 4\n",
    "a"
   ]
  },
  {
   "cell_type": "code",
   "execution_count": 15,
   "id": "liquid-hours",
   "metadata": {},
   "outputs": [],
   "source": [
    "a = 10\n",
    "def printGlobal():\n",
    "    global a\n",
    "    a = 'i am sagar'\n",
    "    print(a)\n",
    "\n",
    "def printLocal():\n",
    "    a = 12\n",
    "    print(a)"
   ]
  },
  {
   "cell_type": "code",
   "execution_count": 16,
   "id": "demanding-offering",
   "metadata": {},
   "outputs": [
    {
     "name": "stdout",
     "output_type": "stream",
     "text": [
      "i am sagar\n",
      "12\n"
     ]
    }
   ],
   "source": [
    "printGlobal()\n",
    "printLocal()"
   ]
  },
  {
   "cell_type": "code",
   "execution_count": 18,
   "id": "unauthorized-developer",
   "metadata": {},
   "outputs": [
    {
     "name": "stdout",
     "output_type": "stream",
     "text": [
      "101\n",
      "I am learning Python\n",
      "I am learning Python\n"
     ]
    }
   ],
   "source": [
    "f = 101\n",
    "print(f)\n",
    "def fun():\n",
    "    global f   # this is used to access and change the global variable\n",
    "    f = 'I am learning Python'\n",
    "    print(f)\n",
    "fun()\n",
    "print(f)"
   ]
  },
  {
   "cell_type": "code",
   "execution_count": 20,
   "id": "criminal-sunset",
   "metadata": {},
   "outputs": [
    {
     "name": "stdout",
     "output_type": "stream",
     "text": [
      "101\n",
      "I am learning Python\n",
      "101\n"
     ]
    }
   ],
   "source": [
    "f = 101\n",
    "print(f)\n",
    "def fun():\n",
    "#     global f\n",
    "    f = 'I am learning Python'\n",
    "    print(f)\n",
    "fun()\n",
    "print(f)"
   ]
  },
  {
   "cell_type": "code",
   "execution_count": 21,
   "id": "geographic-portugal",
   "metadata": {},
   "outputs": [
    {
     "name": "stdout",
     "output_type": "stream",
     "text": [
      "101\n",
      "101\n",
      "changing global variable\n"
     ]
    }
   ],
   "source": [
    "f = 101\n",
    "print(f)\n",
    "def fun():\n",
    "    global f   # this is used to access and change the global variable\n",
    "    print(f)\n",
    "    f = 'changing global variable'\n",
    "fun()\n",
    "print(f)"
   ]
  },
  {
   "cell_type": "code",
   "execution_count": 25,
   "id": "abroad-voltage",
   "metadata": {},
   "outputs": [
    {
     "name": "stdout",
     "output_type": "stream",
     "text": [
      "Interest Calculator\n",
      "Principal amount?1000\n",
      "Rate of Interest?10\n",
      "Duration(no. of years)?1\n",
      "1100.0\n"
     ]
    }
   ],
   "source": [
    "print('Interest Calculator')\n",
    "amount = float(input('Principal amount?'))\n",
    "roi = float(input('Rate of Interest?'))\n",
    "time = int(input('Duration(no. of years)?'))\n",
    "\n",
    "total = (amount*pow(1 + (roi/100), time))\n",
    "\n",
    "print(total)"
   ]
  },
  {
   "cell_type": "code",
   "execution_count": 27,
   "id": "southeast-india",
   "metadata": {},
   "outputs": [
    {
     "ename": "NameError",
     "evalue": "name 'constant' is not defined",
     "output_type": "error",
     "traceback": [
      "\u001b[0;31m---------------------------------------------------------------------------\u001b[0m",
      "\u001b[0;31mNameError\u001b[0m                                 Traceback (most recent call last)",
      "\u001b[0;32m<ipython-input-27-187c1aee540d>\u001b[0m in \u001b[0;36m<module>\u001b[0;34m\u001b[0m\n\u001b[1;32m      2\u001b[0m \u001b[0mg\u001b[0m \u001b[0;34m=\u001b[0m \u001b[0;36m9.8\u001b[0m\u001b[0;34m\u001b[0m\u001b[0;34m\u001b[0m\u001b[0m\n\u001b[1;32m      3\u001b[0m \u001b[0;34m\u001b[0m\u001b[0m\n\u001b[0;32m----> 4\u001b[0;31m \u001b[0mprint\u001b[0m\u001b[0;34m(\u001b[0m\u001b[0mconstant\u001b[0m\u001b[0;34m.\u001b[0m\u001b[0mpi\u001b[0m\u001b[0;34m)\u001b[0m\u001b[0;34m\u001b[0m\u001b[0;34m\u001b[0m\u001b[0m\n\u001b[0m",
      "\u001b[0;31mNameError\u001b[0m: name 'constant' is not defined"
     ]
    }
   ],
   "source": [
    "pi = 3.14\n",
    "g = 9.8\n",
    "\n",
    "print(constant.pi)"
   ]
  },
  {
   "cell_type": "code",
   "execution_count": 30,
   "id": "earlier-detector",
   "metadata": {},
   "outputs": [
    {
     "name": "stdout",
     "output_type": "stream",
     "text": [
      "139937472284184\n",
      "139937472375472\n"
     ]
    }
   ],
   "source": [
    "a = 'python3'\n",
    "print(id(a))\n",
    "\n",
    "b = \"a\"\n",
    "print(id(b))"
   ]
  },
  {
   "cell_type": "code",
   "execution_count": 31,
   "id": "attached-spending",
   "metadata": {},
   "outputs": [
    {
     "name": "stdout",
     "output_type": "stream",
     "text": [
      "Learn\n",
      "earn\n"
     ]
    }
   ],
   "source": [
    "str = \"Learn Python\"\n",
    "f = str[0:5]\n",
    "print(f)\n",
    "s = str[1:5]\n",
    "print(s)"
   ]
  },
  {
   "cell_type": "code",
   "execution_count": 33,
   "id": "valid-heritage",
   "metadata": {},
   "outputs": [
    {
     "data": {
      "text/plain": [
       "24"
      ]
     },
     "execution_count": 33,
     "metadata": {},
     "output_type": "execute_result"
    }
   ],
   "source": [
    "a = 3 << 3\n",
    "a"
   ]
  },
  {
   "cell_type": "code",
   "execution_count": 39,
   "id": "accurate-location",
   "metadata": {},
   "outputs": [
    {
     "name": "stdout",
     "output_type": "stream",
     "text": [
      "<class 'bytes'>\n"
     ]
    },
    {
     "data": {
      "text/plain": [
       "b'python'"
      ]
     },
     "execution_count": 39,
     "metadata": {},
     "output_type": "execute_result"
    }
   ],
   "source": [
    "a = b'python'\n",
    "print(type(a))\n",
    "a"
   ]
  },
  {
   "cell_type": "code",
   "execution_count": 40,
   "id": "offensive-retro",
   "metadata": {},
   "outputs": [
    {
     "data": {
      "text/plain": [
       "()"
      ]
     },
     "execution_count": 40,
     "metadata": {},
     "output_type": "execute_result"
    }
   ],
   "source": [
    "pure_tuple= ()\n",
    "pure_tuple"
   ]
  },
  {
   "cell_type": "code",
   "execution_count": 46,
   "id": "employed-programmer",
   "metadata": {},
   "outputs": [
    {
     "data": {
      "text/plain": [
       "(3, 1, 7, 9)"
      ]
     },
     "execution_count": 46,
     "metadata": {},
     "output_type": "execute_result"
    }
   ],
   "source": [
    "pure_tuple = (3, 1, 7, 9)\n",
    "pure_tuple"
   ]
  },
  {
   "cell_type": "code",
   "execution_count": 47,
   "id": "sacred-laptop",
   "metadata": {},
   "outputs": [
    {
     "data": {
      "text/plain": [
       "(1, (1, 2), 3, (1, 2, 3, (1, 2, 3, 4)))"
      ]
     },
     "execution_count": 47,
     "metadata": {},
     "output_type": "execute_result"
    }
   ],
   "source": [
    "second_tuple = (1, (1, 2), 3, (1, 2, 3, (1, 2, 3, 4)))\n",
    "second_tuple"
   ]
  },
  {
   "cell_type": "code",
   "execution_count": 48,
   "id": "interracial-solomon",
   "metadata": {},
   "outputs": [
    {
     "name": "stdout",
     "output_type": "stream",
     "text": [
      "3\n",
      "1\n",
      "7\n",
      "9\n"
     ]
    }
   ],
   "source": [
    "for item in pure_tuple:\n",
    "    print(item)"
   ]
  },
  {
   "cell_type": "code",
   "execution_count": 49,
   "id": "super-orbit",
   "metadata": {},
   "outputs": [
    {
     "data": {
      "text/plain": [
       "('python', 'python')"
      ]
     },
     "execution_count": 49,
     "metadata": {},
     "output_type": "execute_result"
    }
   ],
   "source": [
    "python = ('python', 'python')\n",
    "python"
   ]
  },
  {
   "cell_type": "code",
   "execution_count": 50,
   "id": "demonstrated-andorra",
   "metadata": {},
   "outputs": [],
   "source": [
    "sample_tuple = (0, 1, 2, 3, 4)\n",
    "tuple_without_first_item = sample_tuple[1:]"
   ]
  },
  {
   "cell_type": "code",
   "execution_count": 51,
   "id": "arbitrary-agriculture",
   "metadata": {},
   "outputs": [
    {
     "data": {
      "text/plain": [
       "(1, 2, 3, 4)"
      ]
     },
     "execution_count": 51,
     "metadata": {},
     "output_type": "execute_result"
    }
   ],
   "source": [
    "tuple_without_first_item"
   ]
  },
  {
   "cell_type": "code",
   "execution_count": 52,
   "id": "vocational-halloween",
   "metadata": {},
   "outputs": [
    {
     "data": {
      "text/plain": [
       "[0, 1, 2, 3, 4]"
      ]
     },
     "execution_count": 52,
     "metadata": {},
     "output_type": "execute_result"
    }
   ],
   "source": [
    "sample = []\n",
    "for i in sample_tuple:\n",
    "    sample.append(i)\n",
    "sample"
   ]
  },
  {
   "cell_type": "code",
   "execution_count": 62,
   "id": "specific-villa",
   "metadata": {},
   "outputs": [
    {
     "data": {
      "text/plain": [
       "(1, 2, 3)"
      ]
     },
     "execution_count": 62,
     "metadata": {},
     "output_type": "execute_result"
    }
   ],
   "source": [
    "\n",
    "sample_tuple = (1, 2, 3, 4, 5, 6, 7, 8, 9)\n",
    "\n",
    "\n",
    "sample_tuple[0:3]"
   ]
  },
  {
   "cell_type": "code",
   "execution_count": 63,
   "id": "documentary-puppy",
   "metadata": {},
   "outputs": [
    {
     "data": {
      "text/plain": [
       "(4, 5, 6, 7, 8, 9)"
      ]
     },
     "execution_count": 63,
     "metadata": {},
     "output_type": "execute_result"
    }
   ],
   "source": [
    "sample_tuple[3:] "
   ]
  },
  {
   "cell_type": "code",
   "execution_count": 64,
   "id": "sized-avatar",
   "metadata": {},
   "outputs": [
    {
     "data": {
      "text/plain": [
       "(7, 8, 9)"
      ]
     },
     "execution_count": 64,
     "metadata": {},
     "output_type": "execute_result"
    }
   ],
   "source": [
    "i = len(sample_tuple)\n",
    "sample_tuple[i-3:]"
   ]
  },
  {
   "cell_type": "code",
   "execution_count": 65,
   "id": "immune-london",
   "metadata": {},
   "outputs": [
    {
     "data": {
      "text/plain": [
       "(9, 8, 7)"
      ]
     },
     "execution_count": 65,
     "metadata": {},
     "output_type": "execute_result"
    }
   ],
   "source": [
    "sample_tuple[:i-4:-1]   #    reverse a tuple"
   ]
  },
  {
   "cell_type": "code",
   "execution_count": null,
   "id": "trained-begin",
   "metadata": {},
   "outputs": [],
   "source": []
  },
  {
   "cell_type": "code",
   "execution_count": null,
   "id": "recent-directive",
   "metadata": {},
   "outputs": [],
   "source": []
  },
  {
   "cell_type": "code",
   "execution_count": 70,
   "id": "failing-hobby",
   "metadata": {},
   "outputs": [
    {
     "name": "stdout",
     "output_type": "stream",
     "text": [
      "{'3', '2', '1', '4', '5'}\n",
      "<class 'set'>\n"
     ]
    }
   ],
   "source": [
    "# Set in python\n",
    "\n",
    "A = set()\n",
    "\n",
    "A = {'1', '1', '1', '2', '3', '4', '5'}\n",
    "print(A)\n",
    "print(type(A))"
   ]
  },
  {
   "cell_type": "code",
   "execution_count": 71,
   "id": "helpful-table",
   "metadata": {},
   "outputs": [],
   "source": [
    "sample_set = set('python data types')"
   ]
  },
  {
   "cell_type": "code",
   "execution_count": 72,
   "id": "mechanical-creator",
   "metadata": {},
   "outputs": [
    {
     "data": {
      "text/plain": [
       "{' ', 'a', 'd', 'e', 'h', 'n', 'o', 'p', 's', 't', 'y'}"
      ]
     },
     "execution_count": 72,
     "metadata": {},
     "output_type": "execute_result"
    }
   ],
   "source": [
    "sample_set"
   ]
  },
  {
   "cell_type": "code",
   "execution_count": 73,
   "id": "assigned-admission",
   "metadata": {},
   "outputs": [
    {
     "data": {
      "text/plain": [
       "{'black', 'green', 'red'}"
      ]
     },
     "execution_count": 73,
     "metadata": {},
     "output_type": "execute_result"
    }
   ],
   "source": [
    "another_set = {'red', 'green', 'black'}\n",
    "another_set"
   ]
  },
  {
   "cell_type": "code",
   "execution_count": 76,
   "id": "median-character",
   "metadata": {},
   "outputs": [],
   "source": [
    "union = sample_set | another_set"
   ]
  },
  {
   "cell_type": "code",
   "execution_count": 77,
   "id": "junior-thanks",
   "metadata": {},
   "outputs": [
    {
     "data": {
      "text/plain": [
       "{' ',\n",
       " 'a',\n",
       " 'black',\n",
       " 'd',\n",
       " 'e',\n",
       " 'green',\n",
       " 'h',\n",
       " 'n',\n",
       " 'o',\n",
       " 'p',\n",
       " 'red',\n",
       " 's',\n",
       " 't',\n",
       " 'y'}"
      ]
     },
     "execution_count": 77,
     "metadata": {},
     "output_type": "execute_result"
    }
   ],
   "source": [
    "union"
   ]
  },
  {
   "cell_type": "code",
   "execution_count": 78,
   "id": "removable-twins",
   "metadata": {},
   "outputs": [
    {
     "data": {
      "text/plain": [
       "set()"
      ]
     },
     "execution_count": 78,
     "metadata": {},
     "output_type": "execute_result"
    }
   ],
   "source": [
    "intersection = sample_set & another_set\n",
    "intersection"
   ]
  },
  {
   "cell_type": "code",
   "execution_count": 79,
   "id": "clean-junction",
   "metadata": {},
   "outputs": [
    {
     "data": {
      "text/plain": [
       "{' ', 'a', 'd', 'e', 'h', 'n', 'o', 'p', 's', 't', 'y'}"
      ]
     },
     "execution_count": 79,
     "metadata": {},
     "output_type": "execute_result"
    }
   ],
   "source": [
    "diff = sample_set - another_set\n",
    "diff"
   ]
  },
  {
   "cell_type": "code",
   "execution_count": 80,
   "id": "pending-respect",
   "metadata": {},
   "outputs": [
    {
     "data": {
      "text/plain": [
       "{' ',\n",
       " 'a',\n",
       " 'black',\n",
       " 'd',\n",
       " 'e',\n",
       " 'green',\n",
       " 'h',\n",
       " 'n',\n",
       " 'o',\n",
       " 'p',\n",
       " 'red',\n",
       " 's',\n",
       " 't',\n",
       " 'y'}"
      ]
     },
     "execution_count": 80,
     "metadata": {},
     "output_type": "execute_result"
    }
   ],
   "source": [
    "semetric_diff = sample_set ^ another_set\n",
    "semetric_diff"
   ]
  },
  {
   "cell_type": "code",
   "execution_count": null,
   "id": "strong-broadcasting",
   "metadata": {},
   "outputs": [],
   "source": []
  },
  {
   "cell_type": "code",
   "execution_count": null,
   "id": "funky-equation",
   "metadata": {},
   "outputs": [],
   "source": []
  },
  {
   "cell_type": "code",
   "execution_count": 81,
   "id": "ranking-plastic",
   "metadata": {},
   "outputs": [
    {
     "data": {
      "text/plain": [
       "{'jan': 31, 'feb': 28, 'march': 31}"
      ]
     },
     "execution_count": 81,
     "metadata": {},
     "output_type": "execute_result"
    }
   ],
   "source": [
    "# Dictionary\n",
    "dict = {\n",
    "    'jan': 31,\n",
    "    'feb': 28,\n",
    "    'march': 31\n",
    "}\n",
    "dict"
   ]
  },
  {
   "cell_type": "code",
   "execution_count": 82,
   "id": "developed-holmes",
   "metadata": {},
   "outputs": [
    {
     "data": {
      "text/plain": [
       "dict"
      ]
     },
     "execution_count": 82,
     "metadata": {},
     "output_type": "execute_result"
    }
   ],
   "source": [
    "type(dict)"
   ]
  },
  {
   "cell_type": "code",
   "execution_count": 83,
   "id": "continuous-greek",
   "metadata": {},
   "outputs": [
    {
     "data": {
      "text/plain": [
       "31"
      ]
     },
     "execution_count": 83,
     "metadata": {},
     "output_type": "execute_result"
    }
   ],
   "source": [
    "dict['jan']"
   ]
  },
  {
   "cell_type": "code",
   "execution_count": 84,
   "id": "detected-bruce",
   "metadata": {},
   "outputs": [
    {
     "data": {
      "text/plain": [
       "29"
      ]
     },
     "execution_count": 84,
     "metadata": {},
     "output_type": "execute_result"
    }
   ],
   "source": [
    "dict['feb'] = 29\n",
    "dict['feb']"
   ]
  },
  {
   "cell_type": "code",
   "execution_count": 85,
   "id": "aggressive-robinson",
   "metadata": {},
   "outputs": [
    {
     "data": {
      "text/plain": [
       "{}"
      ]
     },
     "execution_count": 85,
     "metadata": {},
     "output_type": "execute_result"
    }
   ],
   "source": [
    "dict.clear()\n",
    "dict"
   ]
  },
  {
   "cell_type": "code",
   "execution_count": 86,
   "id": "veterinary-cattle",
   "metadata": {},
   "outputs": [
    {
     "name": "stdout",
     "output_type": "stream",
     "text": [
      "31\n",
      "28\n",
      "31\n"
     ]
    }
   ],
   "source": [
    "dict = {\n",
    "    'jan': 31,\n",
    "    'feb': 28,\n",
    "    'march': 31\n",
    "}\n",
    "allkeys = dict.keys()\n",
    "\n",
    "for key in allkeys:\n",
    "    print(dict[key])"
   ]
  },
  {
   "cell_type": "code",
   "execution_count": null,
   "id": "serious-cornwall",
   "metadata": {},
   "outputs": [],
   "source": []
  },
  {
   "cell_type": "code",
   "execution_count": null,
   "id": "institutional-glance",
   "metadata": {},
   "outputs": [],
   "source": []
  }
 ],
 "metadata": {
  "kernelspec": {
   "display_name": "Python 3",
   "language": "python",
   "name": "python3"
  },
  "language_info": {
   "codemirror_mode": {
    "name": "ipython",
    "version": 3
   },
   "file_extension": ".py",
   "mimetype": "text/x-python",
   "name": "python",
   "nbconvert_exporter": "python",
   "pygments_lexer": "ipython3",
   "version": "3.6.8"
  }
 },
 "nbformat": 4,
 "nbformat_minor": 5
}

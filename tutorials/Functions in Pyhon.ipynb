{
 "cells": [
  {
   "cell_type": "code",
   "execution_count": 1,
   "id": "missing-designation",
   "metadata": {},
   "outputs": [
    {
     "name": "stdout",
     "output_type": "stream",
     "text": [
      "Good morning sagar\n"
     ]
    }
   ],
   "source": [
    "# function declaration\n",
    "def greet(name):\n",
    "    print(\"Good morning \" + name)\n",
    "\n",
    "greet(\"sagar\")"
   ]
  },
  {
   "cell_type": "code",
   "execution_count": 2,
   "id": "sustained-apartment",
   "metadata": {},
   "outputs": [
    {
     "name": "stdout",
     "output_type": "stream",
     "text": [
      "sagar\n",
      "My name is : sagar\n"
     ]
    }
   ],
   "source": [
    "# write a function to take input of name and print it\n",
    "def takeName():\n",
    "    name = input()\n",
    "    print(\"My name is : \" + name)\n",
    "\n",
    "takeName()"
   ]
  },
  {
   "cell_type": "code",
   "execution_count": 3,
   "id": "remarkable-bruce",
   "metadata": {},
   "outputs": [
    {
     "name": "stdout",
     "output_type": "stream",
     "text": [
      "jan : 31\n",
      "feb : 28\n",
      "mar : 31\n"
     ]
    }
   ],
   "source": [
    "def printDict(dict):\n",
    "    keys = dict.keys()\n",
    "    for key in keys:\n",
    "        print(key + \" : \" + str(dict[key]))\n",
    "\n",
    "# Declaring a dictionary\n",
    "dict = {\n",
    "    'jan' : 31,\n",
    "    'feb' : 28,\n",
    "    'mar' : 31\n",
    "}\n",
    "\n",
    "printDict(dict)"
   ]
  },
  {
   "cell_type": "code",
   "execution_count": 6,
   "id": "regulated-treaty",
   "metadata": {},
   "outputs": [
    {
     "name": "stdout",
     "output_type": "stream",
     "text": [
      "34\n",
      "34 is not in the list.\n"
     ]
    }
   ],
   "source": [
    "def checkItem(l, item):\n",
    "    if item in l:\n",
    "        print(str(item) + \" is in the list. \")\n",
    "    else:\n",
    "        print(str(item) + \" is not in the list.\")\n",
    "\n",
    "# declaring a list\n",
    "l = [1, 2, 3, 4, 5, 6, 7, 8, 9, 10]\n",
    "item = int(input())\n",
    "checkItem(l, item)"
   ]
  },
  {
   "cell_type": "code",
   "execution_count": null,
   "id": "juvenile-candle",
   "metadata": {},
   "outputs": [],
   "source": []
  }
 ],
 "metadata": {
  "kernelspec": {
   "display_name": "Python 3",
   "language": "python",
   "name": "python3"
  },
  "language_info": {
   "codemirror_mode": {
    "name": "ipython",
    "version": 3
   },
   "file_extension": ".py",
   "mimetype": "text/x-python",
   "name": "python",
   "nbconvert_exporter": "python",
   "pygments_lexer": "ipython3",
   "version": "3.6.9"
  }
 },
 "nbformat": 4,
 "nbformat_minor": 5
}
